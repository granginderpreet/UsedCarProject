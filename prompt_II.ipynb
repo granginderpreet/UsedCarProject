{
 "cells": [
  {
   "cell_type": "markdown",
   "metadata": {},
   "source": [
    "# What drives the price of a car?\n",
    "\n",
    "![](images/kurt.jpeg)"
   ]
  },
  {
   "cell_type": "markdown",
   "metadata": {},
   "source": [
    "**OVERVIEW**\n",
    "\n",
    "In this application, you will explore a dataset from kaggle. The original dataset contained information on 3 million used cars. The provided dataset contains information on 426K cars to ensure speed of processing.  Your goal is to understand what factors make a car more or less expensive.  As a result of your analysis, you should provide clear recommendations to your client -- a used car dealership -- as to what consumers value in a used car."
   ]
  },
  {
   "cell_type": "markdown",
   "metadata": {},
   "source": [
    "### CRISP-DM Framework\n",
    "\n",
    "<center>\n",
    "    <img src = images/crisp.png width = 50%/>\n",
    "</center>\n",
    "\n",
    "\n",
    "To frame the task, throughout our practical applications we will refer back to a standard process in industry for data projects called CRISP-DM.  This process provides a framework for working through a data problem.  Your first step in this application will be to read through a brief overview of CRISP-DM [here](https://mo-pcco.s3.us-east-1.amazonaws.com/BH-PCMLAI/module_11/readings_starter.zip).  After reading the overview, answer the questions below."
   ]
  },
  {
   "cell_type": "markdown",
   "metadata": {},
   "source": [
    "### Business Understanding\n",
    "\n",
    "From a business perspective, we are tasked with identifying key drivers for used car prices.  In the CRISP-DM overview, we are asked to convert this business framing to a data problem definition.  Using a few sentences, reframe the task as a data task with the appropriate technical vocabulary. "
   ]
  },
  {
   "cell_type": "markdown",
   "metadata": {},
   "source": [
    "The uesr car dealership is looking to analuyze the factors that impact the perice of a used car and find the ones that make the most impact. As a result, the used car dealer can focus on those factors and perhaps increase the price of the used car in its dealership and increasse profit margin. On the other hand, if it finds other used cars that are over proiced, it can decide to not buy those cars. So it helps the dealer to make more money from the cars (lower buying and/or higher selling cost)"
   ]
  },
  {
   "cell_type": "markdown",
   "metadata": {},
   "source": []
  },
  {
   "cell_type": "markdown",
   "metadata": {},
   "source": [
    "### Data Understanding\n",
    "\n",
    "After considering the business understanding, we want to get familiar with our data.  Write down some steps that you would take to get to know the dataset and identify any quality issues within.  Take time to get to know the dataset and explore what information it contains and how this could be used to inform your business understanding."
   ]
  },
  {
   "cell_type": "code",
   "execution_count": 1,
   "metadata": {},
   "outputs": [],
   "source": [
    "import matplotlib.pyplot as plt\n",
    "import numpy as np\n",
    "import pandas as pd\n",
    "import seaborn as sns\n",
    "from sklearn.decomposition import PCA\n",
    "from sklearn.cluster import KMeans, DBSCAN\n",
    "from sklearn.preprocessing import StandardScaler\n",
    "import warnings\n",
    "\n",
    "from sklearn.linear_model import LinearRegression, HuberRegressor\n",
    "from sklearn.metrics import mean_squared_error\n",
    "import warnings\n",
    "from sklearn.linear_model import LinearRegression\n",
    "from sklearn.metrics import mean_absolute_error, mean_squared_error\n",
    "from sklearn import linear_model\n",
    "from sklearn.linear_model import LinearRegression\n",
    "from sklearn.pipeline import Pipeline\n",
    "from sklearn.preprocessing import PolynomialFeatures, OneHotEncoder, OrdinalEncoder\n",
    "from sklearn.metrics import mean_squared_error \n",
    "from sklearn.model_selection import train_test_split\n",
    "from sklearn.compose import make_column_transformer, make_column_selector\n",
    "from sklearn.linear_model import LinearRegression, Lasso\n",
    "from sklearn.preprocessing import StandardScaler, PolynomialFeatures\n",
    "from sklearn.pipeline import Pipeline\n",
    "from sklearn.feature_selection import SequentialFeatureSelector, SelectFromModel\n",
    "from sklearn.metrics import mean_squared_error\n",
    "from sklearn.model_selection import train_test_split, GridSearchCV\n",
    "from sklearn import set_config\n",
    "set_config(display=\"diagram\")\n",
    "\n",
    "\n",
    "import pandas as pd\n",
    "import numpy as np\n",
    "import seaborn as sns\n",
    "import plotly.express as px\n",
    "from sklearn import set_config\n",
    "warnings.filterwarnings('ignore')\n",
    "data_df = pd.read_csv('data/vehicles.csv')"
   ]
  },
  {
   "cell_type": "code",
   "execution_count": 2,
   "metadata": {},
   "outputs": [
    {
     "data": {
      "text/html": [
       "<div>\n",
       "<style scoped>\n",
       "    .dataframe tbody tr th:only-of-type {\n",
       "        vertical-align: middle;\n",
       "    }\n",
       "\n",
       "    .dataframe tbody tr th {\n",
       "        vertical-align: top;\n",
       "    }\n",
       "\n",
       "    .dataframe thead th {\n",
       "        text-align: right;\n",
       "    }\n",
       "</style>\n",
       "<table border=\"1\" class=\"dataframe\">\n",
       "  <thead>\n",
       "    <tr style=\"text-align: right;\">\n",
       "      <th></th>\n",
       "      <th>id</th>\n",
       "      <th>region</th>\n",
       "      <th>price</th>\n",
       "      <th>year</th>\n",
       "      <th>manufacturer</th>\n",
       "      <th>model</th>\n",
       "      <th>condition</th>\n",
       "      <th>cylinders</th>\n",
       "      <th>fuel</th>\n",
       "      <th>odometer</th>\n",
       "      <th>title_status</th>\n",
       "      <th>transmission</th>\n",
       "      <th>VIN</th>\n",
       "      <th>drive</th>\n",
       "      <th>size</th>\n",
       "      <th>type</th>\n",
       "      <th>paint_color</th>\n",
       "      <th>state</th>\n",
       "    </tr>\n",
       "  </thead>\n",
       "  <tbody>\n",
       "    <tr>\n",
       "      <th>0</th>\n",
       "      <td>7222695916</td>\n",
       "      <td>prescott</td>\n",
       "      <td>6000</td>\n",
       "      <td>NaN</td>\n",
       "      <td>NaN</td>\n",
       "      <td>NaN</td>\n",
       "      <td>NaN</td>\n",
       "      <td>NaN</td>\n",
       "      <td>NaN</td>\n",
       "      <td>NaN</td>\n",
       "      <td>NaN</td>\n",
       "      <td>NaN</td>\n",
       "      <td>NaN</td>\n",
       "      <td>NaN</td>\n",
       "      <td>NaN</td>\n",
       "      <td>NaN</td>\n",
       "      <td>NaN</td>\n",
       "      <td>az</td>\n",
       "    </tr>\n",
       "    <tr>\n",
       "      <th>1</th>\n",
       "      <td>7218891961</td>\n",
       "      <td>fayetteville</td>\n",
       "      <td>11900</td>\n",
       "      <td>NaN</td>\n",
       "      <td>NaN</td>\n",
       "      <td>NaN</td>\n",
       "      <td>NaN</td>\n",
       "      <td>NaN</td>\n",
       "      <td>NaN</td>\n",
       "      <td>NaN</td>\n",
       "      <td>NaN</td>\n",
       "      <td>NaN</td>\n",
       "      <td>NaN</td>\n",
       "      <td>NaN</td>\n",
       "      <td>NaN</td>\n",
       "      <td>NaN</td>\n",
       "      <td>NaN</td>\n",
       "      <td>ar</td>\n",
       "    </tr>\n",
       "    <tr>\n",
       "      <th>2</th>\n",
       "      <td>7221797935</td>\n",
       "      <td>florida keys</td>\n",
       "      <td>21000</td>\n",
       "      <td>NaN</td>\n",
       "      <td>NaN</td>\n",
       "      <td>NaN</td>\n",
       "      <td>NaN</td>\n",
       "      <td>NaN</td>\n",
       "      <td>NaN</td>\n",
       "      <td>NaN</td>\n",
       "      <td>NaN</td>\n",
       "      <td>NaN</td>\n",
       "      <td>NaN</td>\n",
       "      <td>NaN</td>\n",
       "      <td>NaN</td>\n",
       "      <td>NaN</td>\n",
       "      <td>NaN</td>\n",
       "      <td>fl</td>\n",
       "    </tr>\n",
       "    <tr>\n",
       "      <th>3</th>\n",
       "      <td>7222270760</td>\n",
       "      <td>worcester / central MA</td>\n",
       "      <td>1500</td>\n",
       "      <td>NaN</td>\n",
       "      <td>NaN</td>\n",
       "      <td>NaN</td>\n",
       "      <td>NaN</td>\n",
       "      <td>NaN</td>\n",
       "      <td>NaN</td>\n",
       "      <td>NaN</td>\n",
       "      <td>NaN</td>\n",
       "      <td>NaN</td>\n",
       "      <td>NaN</td>\n",
       "      <td>NaN</td>\n",
       "      <td>NaN</td>\n",
       "      <td>NaN</td>\n",
       "      <td>NaN</td>\n",
       "      <td>ma</td>\n",
       "    </tr>\n",
       "    <tr>\n",
       "      <th>4</th>\n",
       "      <td>7210384030</td>\n",
       "      <td>greensboro</td>\n",
       "      <td>4900</td>\n",
       "      <td>NaN</td>\n",
       "      <td>NaN</td>\n",
       "      <td>NaN</td>\n",
       "      <td>NaN</td>\n",
       "      <td>NaN</td>\n",
       "      <td>NaN</td>\n",
       "      <td>NaN</td>\n",
       "      <td>NaN</td>\n",
       "      <td>NaN</td>\n",
       "      <td>NaN</td>\n",
       "      <td>NaN</td>\n",
       "      <td>NaN</td>\n",
       "      <td>NaN</td>\n",
       "      <td>NaN</td>\n",
       "      <td>nc</td>\n",
       "    </tr>\n",
       "  </tbody>\n",
       "</table>\n",
       "</div>"
      ],
      "text/plain": [
       "           id                  region  price  year manufacturer model  \\\n",
       "0  7222695916                prescott   6000   NaN          NaN   NaN   \n",
       "1  7218891961            fayetteville  11900   NaN          NaN   NaN   \n",
       "2  7221797935            florida keys  21000   NaN          NaN   NaN   \n",
       "3  7222270760  worcester / central MA   1500   NaN          NaN   NaN   \n",
       "4  7210384030              greensboro   4900   NaN          NaN   NaN   \n",
       "\n",
       "  condition cylinders fuel  odometer title_status transmission  VIN drive  \\\n",
       "0       NaN       NaN  NaN       NaN          NaN          NaN  NaN   NaN   \n",
       "1       NaN       NaN  NaN       NaN          NaN          NaN  NaN   NaN   \n",
       "2       NaN       NaN  NaN       NaN          NaN          NaN  NaN   NaN   \n",
       "3       NaN       NaN  NaN       NaN          NaN          NaN  NaN   NaN   \n",
       "4       NaN       NaN  NaN       NaN          NaN          NaN  NaN   NaN   \n",
       "\n",
       "  size type paint_color state  \n",
       "0  NaN  NaN         NaN    az  \n",
       "1  NaN  NaN         NaN    ar  \n",
       "2  NaN  NaN         NaN    fl  \n",
       "3  NaN  NaN         NaN    ma  \n",
       "4  NaN  NaN         NaN    nc  "
      ]
     },
     "execution_count": 2,
     "metadata": {},
     "output_type": "execute_result"
    }
   ],
   "source": [
    "data_df.head()"
   ]
  },
  {
   "cell_type": "code",
   "execution_count": 3,
   "metadata": {},
   "outputs": [
    {
     "data": {
      "text/plain": [
       "(426880, 18)"
      ]
     },
     "execution_count": 3,
     "metadata": {},
     "output_type": "execute_result"
    }
   ],
   "source": [
    "data_df.shape"
   ]
  },
  {
   "cell_type": "markdown",
   "metadata": {},
   "source": [
    "Select the columns that are most likely to be impactful to the car price. From the list below there are only a few columns that have lesser number of N/A iitems."
   ]
  },
  {
   "cell_type": "code",
   "execution_count": null,
   "metadata": {},
   "outputs": [],
   "source": [
    "\n"
   ]
  },
  {
   "cell_type": "code",
   "execution_count": 4,
   "metadata": {},
   "outputs": [
    {
     "data": {
      "text/plain": [
       "id                   0\n",
       "region               0\n",
       "price                0\n",
       "year              1205\n",
       "manufacturer     17646\n",
       "model             5277\n",
       "condition       174104\n",
       "cylinders       177678\n",
       "fuel              3013\n",
       "odometer          4400\n",
       "title_status      8242\n",
       "transmission      2556\n",
       "VIN             161042\n",
       "drive           130567\n",
       "size            306361\n",
       "type             92858\n",
       "paint_color     130203\n",
       "state                0\n",
       "dtype: int64"
      ]
     },
     "execution_count": 4,
     "metadata": {},
     "output_type": "execute_result"
    }
   ],
   "source": [
    "\n",
    "data_df.isna().sum()\n",
    "\n",
    "\n"
   ]
  },
  {
   "cell_type": "code",
   "execution_count": 5,
   "metadata": {},
   "outputs": [],
   "source": [
    "#Here is a subset of columns we will use for the remainder of the project.\n",
    "\n",
    "\n",
    "data_subset=data_df[[\"region\", \"price\", \"year\", \"model\", \"odometer\",\"title_status\", \"transmission\",\"state\"]]\n",
    "data_subset.reset_index(inplace=True, drop=True)"
   ]
  },
  {
   "cell_type": "code",
   "execution_count": 6,
   "metadata": {},
   "outputs": [
    {
     "data": {
      "text/plain": [
       "region           object\n",
       "price             int64\n",
       "year            float64\n",
       "model            object\n",
       "odometer        float64\n",
       "title_status     object\n",
       "transmission     object\n",
       "state            object\n",
       "dtype: object"
      ]
     },
     "execution_count": 6,
     "metadata": {},
     "output_type": "execute_result"
    }
   ],
   "source": [
    "data_subset.dtypes"
   ]
  },
  {
   "cell_type": "markdown",
   "metadata": {},
   "source": [
    "Next cell removes all the columns except odometer and year. "
   ]
  },
  {
   "cell_type": "code",
   "execution_count": 7,
   "metadata": {},
   "outputs": [
    {
     "name": "stdout",
     "output_type": "stream",
     "text": [
      "6\n",
      "['other' 'automatic' 'manual']\n",
      "51\n"
     ]
    }
   ],
   "source": [
    "\t\n",
    "data_subset.isna().sum()\n",
    "data_subset.dropna(inplace=True)\n",
    "data_subset.reset_index(inplace=True, drop=True)\n",
    "# YOUR CODE HERE\n",
    "num_title=data_subset[\"title_status\"].unique()\n",
    "num_trans=data_subset[\"transmission\"].unique()\n",
    "num_states=data_subset[\"state\"].unique()\n",
    "# Answer check\n",
    "print(num_title.size)\n",
    "print(num_trans)\n",
    "print(num_states.size)\n",
    "\n",
    "title_encoded = pd.get_dummies(data_subset['title_status'])\n",
    "trans_encoded=pd.get_dummies(data_subset[\"transmission\"])\n",
    "data_subset=data_subset.drop([\"title_status\", \"transmission\",\"state\", \"region\", \"model\"], inplace=False, axis=1)"
   ]
  },
  {
   "cell_type": "code",
   "execution_count": 8,
   "metadata": {},
   "outputs": [],
   "source": [
    "#We also used the title and transmission fields but the mse was  the same as what we got with the odometer/year parameters. So have commented out for now\n",
    "\n",
    "# data_combined = pd.concat([title_encoded, trans_encoded], axis=1)\n",
    "# X_train, X_test, y_train, y_test =train_test_split(data_combined,data_subset[\"price\"],test_size=0.3, random_state = 22)\n",
    "\n",
    "# #data_combined=data_subset.drop([\"title_status\", \"transmission\",\"state\", \"region\", \"model\", \"price\"], inplace=False, axis=1)\n",
    "# f_with_data_combined = linear_model.LinearRegression(fit_intercept=False)\n",
    "# ccc_linreg=f_with_data_combined.fit(X_train, y_train)\n",
    "# train_mse=mean_squared_error(f_with_data_combined.predict(X_train), y_train)\n",
    "# train_mse\n",
    "# predict=f_with_data_combined.predict(X_test)\n",
    "# predict_mse=mean_squared_error(predict, y_test)\n",
    "# print(f\"predict_mse={predict_mse}, train_mse={train_mse}\")\n",
    "# data_combined.head()\n",
    "# ccc_linreg.coef_"
   ]
  },
  {
   "cell_type": "markdown",
   "metadata": {},
   "source": [
    "### Data Preparation\n",
    "\n",
    "After our initial exploration and fine tuning of the business understanding, it is time to construct our final dataset prior to modeling.  Here, we want to make sure to handle any integrity issues and cleaning, the engineering of new features, any transformations that we believe should happen (scaling, logarithms, normalization, etc.), and general preparation for modeling with `sklearn`. "
   ]
  },
  {
   "cell_type": "code",
   "execution_count": 9,
   "metadata": {},
   "outputs": [
    {
     "data": {
      "text/html": [
       "<div>\n",
       "<style scoped>\n",
       "    .dataframe tbody tr th:only-of-type {\n",
       "        vertical-align: middle;\n",
       "    }\n",
       "\n",
       "    .dataframe tbody tr th {\n",
       "        vertical-align: top;\n",
       "    }\n",
       "\n",
       "    .dataframe thead th {\n",
       "        text-align: right;\n",
       "    }\n",
       "</style>\n",
       "<table border=\"1\" class=\"dataframe\">\n",
       "  <thead>\n",
       "    <tr style=\"text-align: right;\">\n",
       "      <th></th>\n",
       "      <th>price</th>\n",
       "      <th>year</th>\n",
       "      <th>odometer</th>\n",
       "    </tr>\n",
       "  </thead>\n",
       "  <tbody>\n",
       "    <tr>\n",
       "      <th>0</th>\n",
       "      <td>33590</td>\n",
       "      <td>2014.0</td>\n",
       "      <td>57923.0</td>\n",
       "    </tr>\n",
       "    <tr>\n",
       "      <th>1</th>\n",
       "      <td>22590</td>\n",
       "      <td>2010.0</td>\n",
       "      <td>71229.0</td>\n",
       "    </tr>\n",
       "    <tr>\n",
       "      <th>2</th>\n",
       "      <td>39590</td>\n",
       "      <td>2020.0</td>\n",
       "      <td>19160.0</td>\n",
       "    </tr>\n",
       "    <tr>\n",
       "      <th>3</th>\n",
       "      <td>30990</td>\n",
       "      <td>2017.0</td>\n",
       "      <td>41124.0</td>\n",
       "    </tr>\n",
       "    <tr>\n",
       "      <th>4</th>\n",
       "      <td>15000</td>\n",
       "      <td>2013.0</td>\n",
       "      <td>128000.0</td>\n",
       "    </tr>\n",
       "  </tbody>\n",
       "</table>\n",
       "</div>"
      ],
      "text/plain": [
       "   price    year  odometer\n",
       "0  33590  2014.0   57923.0\n",
       "1  22590  2010.0   71229.0\n",
       "2  39590  2020.0   19160.0\n",
       "3  30990  2017.0   41124.0\n",
       "4  15000  2013.0  128000.0"
      ]
     },
     "execution_count": 9,
     "metadata": {},
     "output_type": "execute_result"
    }
   ],
   "source": [
    "data_subset.head()"
   ]
  },
  {
   "cell_type": "markdown",
   "metadata": {},
   "source": [
    "Next step is removing outliers from the table but removing number that are > 2 * sigma"
   ]
  },
  {
   "cell_type": "code",
   "execution_count": 10,
   "metadata": {},
   "outputs": [],
   "source": [
    "from scipy import stats\n",
    "\n",
    "def drop_numerical_outliers(df, z_thresh=3):\n",
    "    # Constrains will contain `True` or `False` depending on if it is a value below the threshold.\n",
    "    constrains = df.select_dtypes(include=[np.number]) \\\n",
    "        .apply(lambda x: np.abs(stats.zscore(x)) < z_thresh) \\\n",
    "        .all(axis=1)\n",
    "    # Drop (inplace) values set to be rejected\n",
    "    df.drop(df.index[~constrains], inplace=True)\n",
    "\n",
    "drop_numerical_outliers(data_subset, z_thresh=2)"
   ]
  },
  {
   "cell_type": "code",
   "execution_count": 11,
   "metadata": {},
   "outputs": [
    {
     "data": {
      "text/plain": [
       "<matplotlib.collections.PathCollection at 0x1e4a250a670>"
      ]
     },
     "execution_count": 11,
     "metadata": {},
     "output_type": "execute_result"
    },
    {
     "data": {
      "image/png": "[encoded data removed]",
      "text/plain": [
       "<Figure size 432x288 with 1 Axes>"
      ]
     },
     "metadata": {},
     "output_type": "display_data"
    }
   ],
   "source": [
    "\n",
    "#Set up the training and test data sets\n",
    "\n",
    "X = data_subset.drop(['price'], axis = 1)\n",
    "y = data_subset['price']\n",
    "X_train, X_test, y_train, y_test =train_test_split(X,y,test_size=0.3, random_state = 22)\n",
    "plt.scatter(X_train[\"odometer\"], y_train)"
   ]
  },
  {
   "cell_type": "code",
   "execution_count": 12,
   "metadata": {},
   "outputs": [
    {
     "data": {
      "text/html": [
       "<div>\n",
       "<style scoped>\n",
       "    .dataframe tbody tr th:only-of-type {\n",
       "        vertical-align: middle;\n",
       "    }\n",
       "\n",
       "    .dataframe tbody tr th {\n",
       "        vertical-align: top;\n",
       "    }\n",
       "\n",
       "    .dataframe thead th {\n",
       "        text-align: right;\n",
       "    }\n",
       "</style>\n",
       "<table border=\"1\" class=\"dataframe\">\n",
       "  <thead>\n",
       "    <tr style=\"text-align: right;\">\n",
       "      <th></th>\n",
       "      <th>year</th>\n",
       "      <th>odometer</th>\n",
       "    </tr>\n",
       "  </thead>\n",
       "  <tbody>\n",
       "    <tr>\n",
       "      <th>0</th>\n",
       "      <td>2014.0</td>\n",
       "      <td>57923.0</td>\n",
       "    </tr>\n",
       "    <tr>\n",
       "      <th>1</th>\n",
       "      <td>2010.0</td>\n",
       "      <td>71229.0</td>\n",
       "    </tr>\n",
       "    <tr>\n",
       "      <th>2</th>\n",
       "      <td>2020.0</td>\n",
       "      <td>19160.0</td>\n",
       "    </tr>\n",
       "    <tr>\n",
       "      <th>3</th>\n",
       "      <td>2017.0</td>\n",
       "      <td>41124.0</td>\n",
       "    </tr>\n",
       "    <tr>\n",
       "      <th>4</th>\n",
       "      <td>2013.0</td>\n",
       "      <td>128000.0</td>\n",
       "    </tr>\n",
       "  </tbody>\n",
       "</table>\n",
       "</div>"
      ],
      "text/plain": [
       "     year  odometer\n",
       "0  2014.0   57923.0\n",
       "1  2010.0   71229.0\n",
       "2  2020.0   19160.0\n",
       "3  2017.0   41124.0\n",
       "4  2013.0  128000.0"
      ]
     },
     "execution_count": 12,
     "metadata": {},
     "output_type": "execute_result"
    }
   ],
   "source": [
    "X.head()\n"
   ]
  },
  {
   "cell_type": "code",
   "execution_count": null,
   "metadata": {},
   "outputs": [],
   "source": []
  },
  {
   "cell_type": "code",
   "execution_count": null,
   "metadata": {},
   "outputs": [],
   "source": []
  },
  {
   "cell_type": "markdown",
   "metadata": {},
   "source": [
    "### Modeling\n",
    "\n",
    "With your (almost?) final dataset in hand, it is now time to build some models.  Here, you should build a number of different regression models with the price as the target.  In building your models, you should explore different parameters and be sure to cross-validate your findings."
   ]
  },
  {
   "cell_type": "markdown",
   "metadata": {},
   "source": [
    "Set up two pipelines. One is for linear regression and other is for Lasso regression. Degree of 1 was used since multiple degrees didnt make a difference in mse"
   ]
  },
  {
   "cell_type": "code",
   "execution_count": 13,
   "metadata": {},
   "outputs": [],
   "source": [
    "auto_pipe = Pipeline([('polyfeatures', PolynomialFeatures(degree = 2, include_bias = False)),\n",
    "                      ('scaler', StandardScaler()),\n",
    "                     ('linear', LinearRegression())])\n",
    "auto_pipe1 = Pipeline([('polyfeatures', PolynomialFeatures(degree = 2, include_bias = False)),\n",
    "                      ('scaler', StandardScaler()),\n",
    "                     ('lasso', Lasso(random_state=42))])"
   ]
  },
  {
   "cell_type": "markdown",
   "metadata": {},
   "source": [
    "Linear model"
   ]
  },
  {
   "cell_type": "code",
   "execution_count": 14,
   "metadata": {},
   "outputs": [
    {
     "name": "stdout",
     "output_type": "stream",
     "text": [
      "<class 'numpy.ndarray'>\n",
      "[-1431836.88988671  -226208.9607747   1436353.61769201   218750.49040841\n",
      "     4765.64492244]\n"
     ]
    },
    {
     "data": {
      "text/html": [
       "<style>#sk-98715c60-b66f-4741-acef-91e009938a15 {color: black;background-color: white;}#sk-98715c60-b66f-4741-acef-91e009938a15 pre{padding: 0;}#sk-98715c60-b66f-4741-acef-91e009938a15 div.sk-toggleable {background-color: white;}#sk-98715c60-b66f-4741-acef-91e009938a15 label.sk-toggleable__label {cursor: pointer;display: block;width: 100%;margin-bottom: 0;padding: 0.3em;box-sizing: border-box;text-align: center;}#sk-98715c60-b66f-4741-acef-91e009938a15 label.sk-toggleable__label-arrow:before {content: \"▸\";float: left;margin-right: 0.25em;color: #696969;}#sk-98715c60-b66f-4741-acef-91e009938a15 label.sk-toggleable__label-arrow:hover:before {color: black;}#sk-98715c60-b66f-4741-acef-91e009938a15 div.sk-estimator:hover label.sk-toggleable__label-arrow:before {color: black;}#sk-98715c60-b66f-4741-acef-91e009938a15 div.sk-toggleable__content {max-height: 0;max-width: 0;overflow: hidden;text-align: left;background-color: #f0f8ff;}#sk-98715c60-b66f-4741-acef-91e009938a15 div.sk-toggleable__content pre {margin: 0.2em;color: black;border-radius: 0.25em;background-color: #f0f8ff;}#sk-98715c60-b66f-4741-acef-91e009938a15 input.sk-toggleable__control:checked~div.sk-toggleable__content {max-height: 200px;max-width: 100%;overflow: auto;}#sk-98715c60-b66f-4741-acef-91e009938a15 input.sk-toggleable__control:checked~label.sk-toggleable__label-arrow:before {content: \"▾\";}#sk-98715c60-b66f-4741-acef-91e009938a15 div.sk-estimator input.sk-toggleable__control:checked~label.sk-toggleable__label {background-color: #d4ebff;}#sk-98715c60-b66f-4741-acef-91e009938a15 div.sk-label input.sk-toggleable__control:checked~label.sk-toggleable__label {background-color: #d4ebff;}#sk-98715c60-b66f-4741-acef-91e009938a15 input.sk-hidden--visually {border: 0;clip: rect(1px 1px 1px 1px);clip: rect(1px, 1px, 1px, 1px);height: 1px;margin: -1px;overflow: hidden;padding: 0;position: absolute;width: 1px;}#sk-98715c60-b66f-4741-acef-91e009938a15 div.sk-estimator {font-family: monospace;background-color: #f0f8ff;border: 1px dotted black;border-radius: 0.25em;box-sizing: border-box;margin-bottom: 0.5em;}#sk-98715c60-b66f-4741-acef-91e009938a15 div.sk-estimator:hover {background-color: #d4ebff;}#sk-98715c60-b66f-4741-acef-91e009938a15 div.sk-parallel-item::after {content: \"\";width: 100%;border-bottom: 1px solid gray;flex-grow: 1;}#sk-98715c60-b66f-4741-acef-91e009938a15 div.sk-label:hover label.sk-toggleable__label {background-color: #d4ebff;}#sk-98715c60-b66f-4741-acef-91e009938a15 div.sk-serial::before {content: \"\";position: absolute;border-left: 1px solid gray;box-sizing: border-box;top: 2em;bottom: 0;left: 50%;}#sk-98715c60-b66f-4741-acef-91e009938a15 div.sk-serial {display: flex;flex-direction: column;align-items: center;background-color: white;padding-right: 0.2em;padding-left: 0.2em;}#sk-98715c60-b66f-4741-acef-91e009938a15 div.sk-item {z-index: 1;}#sk-98715c60-b66f-4741-acef-91e009938a15 div.sk-parallel {display: flex;align-items: stretch;justify-content: center;background-color: white;}#sk-98715c60-b66f-4741-acef-91e009938a15 div.sk-parallel::before {content: \"\";position: absolute;border-left: 1px solid gray;box-sizing: border-box;top: 2em;bottom: 0;left: 50%;}#sk-98715c60-b66f-4741-acef-91e009938a15 div.sk-parallel-item {display: flex;flex-direction: column;position: relative;background-color: white;}#sk-98715c60-b66f-4741-acef-91e009938a15 div.sk-parallel-item:first-child::after {align-self: flex-end;width: 50%;}#sk-98715c60-b66f-4741-acef-91e009938a15 div.sk-parallel-item:last-child::after {align-self: flex-start;width: 50%;}#sk-98715c60-b66f-4741-acef-91e009938a15 div.sk-parallel-item:only-child::after {width: 0;}#sk-98715c60-b66f-4741-acef-91e009938a15 div.sk-dashed-wrapped {border: 1px dashed gray;margin: 0 0.4em 0.5em 0.4em;box-sizing: border-box;padding-bottom: 0.4em;background-color: white;position: relative;}#sk-98715c60-b66f-4741-acef-91e009938a15 div.sk-label label {font-family: monospace;font-weight: bold;background-color: white;display: inline-block;line-height: 1.2em;}#sk-98715c60-b66f-4741-acef-91e009938a15 div.sk-label-container {position: relative;z-index: 2;text-align: center;}#sk-98715c60-b66f-4741-acef-91e009938a15 div.sk-container {/* jupyter's `normalize.less` sets `[hidden] { display: none; }` but bootstrap.min.css set `[hidden] { display: none !important; }` so we also need the `!important` here to be able to override the default hidden behavior on the sphinx rendered scikit-learn.org. See: https://github.com/scikit-learn/scikit-learn/issues/21755 */display: inline-block !important;position: relative;}#sk-98715c60-b66f-4741-acef-91e009938a15 div.sk-text-repr-fallback {display: none;}</style><div id=\"sk-98715c60-b66f-4741-acef-91e009938a15\" class=\"sk-top-container\"><div class=\"sk-text-repr-fallback\"><pre>Pipeline(steps=[(&#x27;polyfeatures&#x27;, PolynomialFeatures(include_bias=False)),\n",
       "                (&#x27;scaler&#x27;, StandardScaler()), (&#x27;linear&#x27;, LinearRegression())])</pre><b>Please rerun this cell to show the HTML repr or trust the notebook.</b></div><div class=\"sk-container\" hidden><div class=\"sk-item sk-dashed-wrapped\"><div class=\"sk-label-container\"><div class=\"sk-label sk-toggleable\"><input class=\"sk-toggleable__control sk-hidden--visually\" id=\"d9ae3d45-fae5-42cd-9519-70ad40284623\" type=\"checkbox\" ><label for=\"d9ae3d45-fae5-42cd-9519-70ad40284623\" class=\"sk-toggleable__label sk-toggleable__label-arrow\">Pipeline</label><div class=\"sk-toggleable__content\"><pre>Pipeline(steps=[(&#x27;polyfeatures&#x27;, PolynomialFeatures(include_bias=False)),\n",
       "                (&#x27;scaler&#x27;, StandardScaler()), (&#x27;linear&#x27;, LinearRegression())])</pre></div></div></div><div class=\"sk-serial\"><div class=\"sk-item\"><div class=\"sk-estimator sk-toggleable\"><input class=\"sk-toggleable__control sk-hidden--visually\" id=\"d3a78f9b-c48f-46d6-aae8-1b4715db6e58\" type=\"checkbox\" ><label for=\"d3a78f9b-c48f-46d6-aae8-1b4715db6e58\" class=\"sk-toggleable__label sk-toggleable__label-arrow\">PolynomialFeatures</label><div class=\"sk-toggleable__content\"><pre>PolynomialFeatures(include_bias=False)</pre></div></div></div><div class=\"sk-item\"><div class=\"sk-estimator sk-toggleable\"><input class=\"sk-toggleable__control sk-hidden--visually\" id=\"8af3c65d-5576-4778-84de-fc484e3c5a61\" type=\"checkbox\" ><label for=\"8af3c65d-5576-4778-84de-fc484e3c5a61\" class=\"sk-toggleable__label sk-toggleable__label-arrow\">StandardScaler</label><div class=\"sk-toggleable__content\"><pre>StandardScaler()</pre></div></div></div><div class=\"sk-item\"><div class=\"sk-estimator sk-toggleable\"><input class=\"sk-toggleable__control sk-hidden--visually\" id=\"36bb4dd6-8c83-476f-95cb-5f247391ecd7\" type=\"checkbox\" ><label for=\"36bb4dd6-8c83-476f-95cb-5f247391ecd7\" class=\"sk-toggleable__label sk-toggleable__label-arrow\">LinearRegression</label><div class=\"sk-toggleable__content\"><pre>LinearRegression()</pre></div></div></div></div></div></div></div>"
      ],
      "text/plain": [
       "Pipeline(steps=[('polyfeatures', PolynomialFeatures(include_bias=False)),\n",
       "                ('scaler', StandardScaler()), ('linear', LinearRegression())])"
      ]
     },
     "execution_count": 14,
     "metadata": {},
     "output_type": "execute_result"
    }
   ],
   "source": [
    "auto_pipe.fit(X_train, y_train)\n",
    "linear_coefs = auto_pipe.named_steps['linear'].coef_\n",
    "# Answer check\n",
    "print(type(linear_coefs))\n",
    "print(linear_coefs)\n",
    "auto_pipe"
   ]
  },
  {
   "cell_type": "markdown",
   "metadata": {},
   "source": [
    "Lasso model"
   ]
  },
  {
   "cell_type": "code",
   "execution_count": 15,
   "metadata": {},
   "outputs": [
    {
     "name": "stdout",
     "output_type": "stream",
     "text": [
      "<class 'numpy.ndarray'>\n",
      "[ 4799.46052403 -7696.6329966   -124.63477311 -1536.76132528\n",
      "  6125.62846005]\n"
     ]
    },
    {
     "data": {
      "text/html": [
       "<style>#sk-150b2840-34f5-4ff2-8fb5-cf3dac98ec57 {color: black;background-color: white;}#sk-150b2840-34f5-4ff2-8fb5-cf3dac98ec57 pre{padding: 0;}#sk-150b2840-34f5-4ff2-8fb5-cf3dac98ec57 div.sk-toggleable {background-color: white;}#sk-150b2840-34f5-4ff2-8fb5-cf3dac98ec57 label.sk-toggleable__label {cursor: pointer;display: block;width: 100%;margin-bottom: 0;padding: 0.3em;box-sizing: border-box;text-align: center;}#sk-150b2840-34f5-4ff2-8fb5-cf3dac98ec57 label.sk-toggleable__label-arrow:before {content: \"▸\";float: left;margin-right: 0.25em;color: #696969;}#sk-150b2840-34f5-4ff2-8fb5-cf3dac98ec57 label.sk-toggleable__label-arrow:hover:before {color: black;}#sk-150b2840-34f5-4ff2-8fb5-cf3dac98ec57 div.sk-estimator:hover label.sk-toggleable__label-arrow:before {color: black;}#sk-150b2840-34f5-4ff2-8fb5-cf3dac98ec57 div.sk-toggleable__content {max-height: 0;max-width: 0;overflow: hidden;text-align: left;background-color: #f0f8ff;}#sk-150b2840-34f5-4ff2-8fb5-cf3dac98ec57 div.sk-toggleable__content pre {margin: 0.2em;color: black;border-radius: 0.25em;background-color: #f0f8ff;}#sk-150b2840-34f5-4ff2-8fb5-cf3dac98ec57 input.sk-toggleable__control:checked~div.sk-toggleable__content {max-height: 200px;max-width: 100%;overflow: auto;}#sk-150b2840-34f5-4ff2-8fb5-cf3dac98ec57 input.sk-toggleable__control:checked~label.sk-toggleable__label-arrow:before {content: \"▾\";}#sk-150b2840-34f5-4ff2-8fb5-cf3dac98ec57 div.sk-estimator input.sk-toggleable__control:checked~label.sk-toggleable__label {background-color: #d4ebff;}#sk-150b2840-34f5-4ff2-8fb5-cf3dac98ec57 div.sk-label input.sk-toggleable__control:checked~label.sk-toggleable__label {background-color: #d4ebff;}#sk-150b2840-34f5-4ff2-8fb5-cf3dac98ec57 input.sk-hidden--visually {border: 0;clip: rect(1px 1px 1px 1px);clip: rect(1px, 1px, 1px, 1px);height: 1px;margin: -1px;overflow: hidden;padding: 0;position: absolute;width: 1px;}#sk-150b2840-34f5-4ff2-8fb5-cf3dac98ec57 div.sk-estimator {font-family: monospace;background-color: #f0f8ff;border: 1px dotted black;border-radius: 0.25em;box-sizing: border-box;margin-bottom: 0.5em;}#sk-150b2840-34f5-4ff2-8fb5-cf3dac98ec57 div.sk-estimator:hover {background-color: #d4ebff;}#sk-150b2840-34f5-4ff2-8fb5-cf3dac98ec57 div.sk-parallel-item::after {content: \"\";width: 100%;border-bottom: 1px solid gray;flex-grow: 1;}#sk-150b2840-34f5-4ff2-8fb5-cf3dac98ec57 div.sk-label:hover label.sk-toggleable__label {background-color: #d4ebff;}#sk-150b2840-34f5-4ff2-8fb5-cf3dac98ec57 div.sk-serial::before {content: \"\";position: absolute;border-left: 1px solid gray;box-sizing: border-box;top: 2em;bottom: 0;left: 50%;}#sk-150b2840-34f5-4ff2-8fb5-cf3dac98ec57 div.sk-serial {display: flex;flex-direction: column;align-items: center;background-color: white;padding-right: 0.2em;padding-left: 0.2em;}#sk-150b2840-34f5-4ff2-8fb5-cf3dac98ec57 div.sk-item {z-index: 1;}#sk-150b2840-34f5-4ff2-8fb5-cf3dac98ec57 div.sk-parallel {display: flex;align-items: stretch;justify-content: center;background-color: white;}#sk-150b2840-34f5-4ff2-8fb5-cf3dac98ec57 div.sk-parallel::before {content: \"\";position: absolute;border-left: 1px solid gray;box-sizing: border-box;top: 2em;bottom: 0;left: 50%;}#sk-150b2840-34f5-4ff2-8fb5-cf3dac98ec57 div.sk-parallel-item {display: flex;flex-direction: column;position: relative;background-color: white;}#sk-150b2840-34f5-4ff2-8fb5-cf3dac98ec57 div.sk-parallel-item:first-child::after {align-self: flex-end;width: 50%;}#sk-150b2840-34f5-4ff2-8fb5-cf3dac98ec57 div.sk-parallel-item:last-child::after {align-self: flex-start;width: 50%;}#sk-150b2840-34f5-4ff2-8fb5-cf3dac98ec57 div.sk-parallel-item:only-child::after {width: 0;}#sk-150b2840-34f5-4ff2-8fb5-cf3dac98ec57 div.sk-dashed-wrapped {border: 1px dashed gray;margin: 0 0.4em 0.5em 0.4em;box-sizing: border-box;padding-bottom: 0.4em;background-color: white;position: relative;}#sk-150b2840-34f5-4ff2-8fb5-cf3dac98ec57 div.sk-label label {font-family: monospace;font-weight: bold;background-color: white;display: inline-block;line-height: 1.2em;}#sk-150b2840-34f5-4ff2-8fb5-cf3dac98ec57 div.sk-label-container {position: relative;z-index: 2;text-align: center;}#sk-150b2840-34f5-4ff2-8fb5-cf3dac98ec57 div.sk-container {/* jupyter's `normalize.less` sets `[hidden] { display: none; }` but bootstrap.min.css set `[hidden] { display: none !important; }` so we also need the `!important` here to be able to override the default hidden behavior on the sphinx rendered scikit-learn.org. See: https://github.com/scikit-learn/scikit-learn/issues/21755 */display: inline-block !important;position: relative;}#sk-150b2840-34f5-4ff2-8fb5-cf3dac98ec57 div.sk-text-repr-fallback {display: none;}</style><div id=\"sk-150b2840-34f5-4ff2-8fb5-cf3dac98ec57\" class=\"sk-top-container\"><div class=\"sk-text-repr-fallback\"><pre>Pipeline(steps=[(&#x27;polyfeatures&#x27;, PolynomialFeatures(include_bias=False)),\n",
       "                (&#x27;scaler&#x27;, StandardScaler()),\n",
       "                (&#x27;lasso&#x27;, Lasso(random_state=42))])</pre><b>Please rerun this cell to show the HTML repr or trust the notebook.</b></div><div class=\"sk-container\" hidden><div class=\"sk-item sk-dashed-wrapped\"><div class=\"sk-label-container\"><div class=\"sk-label sk-toggleable\"><input class=\"sk-toggleable__control sk-hidden--visually\" id=\"a3fbbae0-f740-4d3f-afa9-40a760dca4e9\" type=\"checkbox\" ><label for=\"a3fbbae0-f740-4d3f-afa9-40a760dca4e9\" class=\"sk-toggleable__label sk-toggleable__label-arrow\">Pipeline</label><div class=\"sk-toggleable__content\"><pre>Pipeline(steps=[(&#x27;polyfeatures&#x27;, PolynomialFeatures(include_bias=False)),\n",
       "                (&#x27;scaler&#x27;, StandardScaler()),\n",
       "                (&#x27;lasso&#x27;, Lasso(random_state=42))])</pre></div></div></div><div class=\"sk-serial\"><div class=\"sk-item\"><div class=\"sk-estimator sk-toggleable\"><input class=\"sk-toggleable__control sk-hidden--visually\" id=\"ddecae80-e953-44bc-bd32-c5945f96be9f\" type=\"checkbox\" ><label for=\"ddecae80-e953-44bc-bd32-c5945f96be9f\" class=\"sk-toggleable__label sk-toggleable__label-arrow\">PolynomialFeatures</label><div class=\"sk-toggleable__content\"><pre>PolynomialFeatures(include_bias=False)</pre></div></div></div><div class=\"sk-item\"><div class=\"sk-estimator sk-toggleable\"><input class=\"sk-toggleable__control sk-hidden--visually\" id=\"34d626eb-fd0e-41b0-82f6-e071ff342e6a\" type=\"checkbox\" ><label for=\"34d626eb-fd0e-41b0-82f6-e071ff342e6a\" class=\"sk-toggleable__label sk-toggleable__label-arrow\">StandardScaler</label><div class=\"sk-toggleable__content\"><pre>StandardScaler()</pre></div></div></div><div class=\"sk-item\"><div class=\"sk-estimator sk-toggleable\"><input class=\"sk-toggleable__control sk-hidden--visually\" id=\"916f02f8-f436-4e2c-ba8b-a5ae073b1387\" type=\"checkbox\" ><label for=\"916f02f8-f436-4e2c-ba8b-a5ae073b1387\" class=\"sk-toggleable__label sk-toggleable__label-arrow\">Lasso</label><div class=\"sk-toggleable__content\"><pre>Lasso(random_state=42)</pre></div></div></div></div></div></div></div>"
      ],
      "text/plain": [
       "Pipeline(steps=[('polyfeatures', PolynomialFeatures(include_bias=False)),\n",
       "                ('scaler', StandardScaler()),\n",
       "                ('lasso', Lasso(random_state=42))])"
      ]
     },
     "execution_count": 15,
     "metadata": {},
     "output_type": "execute_result"
    }
   ],
   "source": [
    "auto_pipe1.fit(X_train, y_train)\n",
    "lasso_coefs = auto_pipe1.named_steps['lasso'].coef_\n",
    "# Answer check\n",
    "print(type(lasso_coefs))\n",
    "print(lasso_coefs)\n",
    "auto_pipe1"
   ]
  },
  {
   "cell_type": "markdown",
   "metadata": {},
   "source": [
    "Linear model MSE"
   ]
  },
  {
   "cell_type": "code",
   "execution_count": 16,
   "metadata": {},
   "outputs": [
    {
     "name": "stdout",
     "output_type": "stream",
     "text": [
      "Linear Model: train_mse=1572113778.8362997, test_mse=1061399840.143104\n"
     ]
    }
   ],
   "source": [
    "train_predict=auto_pipe.predict(X_train)\n",
    "train_predict[train_predict < 0] = 0\n",
    "train_mse=mean_squared_error(train_predict, y_train)\n",
    "\n",
    "test_predict=auto_pipe.predict(X_test)\n",
    "test_predict[test_predict < 0] = 0\n",
    "test_mse=mean_squared_error(test_predict, y_test)\n",
    "\n",
    "print(f\"Linear Model: train_mse={train_mse}, test_mse={test_mse}\")"
   ]
  },
  {
   "cell_type": "markdown",
   "metadata": {},
   "source": [
    "Lasso Model MSE"
   ]
  },
  {
   "cell_type": "code",
   "execution_count": 17,
   "metadata": {},
   "outputs": [
    {
     "name": "stdout",
     "output_type": "stream",
     "text": [
      "Lasso Model: train_mse=1575714979.230497, test_mse=1065213896.2255602\n"
     ]
    }
   ],
   "source": [
    "train_predict=auto_pipe1.predict(X_train)\n",
    "train_predict[train_predict < 0] = 0\n",
    "train_mse=mean_squared_error(train_predict, y_train)\n",
    "\n",
    "test_predict=auto_pipe1.predict(X_test)\n",
    "test_predict[test_predict < 0] = 0\n",
    "test_mse=mean_squared_error(test_predict, y_test)\n",
    "\n",
    "print(f\"Lasso Model: train_mse={train_mse}, test_mse={test_mse}\")"
   ]
  },
  {
   "cell_type": "markdown",
   "metadata": {},
   "source": [
    "Test vector prediction vs actual price"
   ]
  },
  {
   "cell_type": "code",
   "execution_count": 18,
   "metadata": {},
   "outputs": [
    {
     "data": {
      "text/plain": [
       "<matplotlib.collections.PathCollection at 0x1e4a261cee0>"
      ]
     },
     "execution_count": 18,
     "metadata": {},
     "output_type": "execute_result"
    },
    {
     "data": {
      "image/png": "[encoded data removed]",
      "text/plain": [
       "<Figure size 432x288 with 1 Axes>"
      ]
     },
     "metadata": {},
     "output_type": "display_data"
    }
   ],
   "source": [
    "plt.plot(test_predict[0:1000])\n",
    "plt.scatter(test_predict[0:1000], y_test[0:1000])"
   ]
  },
  {
   "cell_type": "code",
   "execution_count": 19,
   "metadata": {},
   "outputs": [
    {
     "data": {
      "text/plain": [
       "array([23774.86867441, 28835.43444052, 10503.80094664, 19759.06093956,\n",
       "       30997.4625406 , 29050.142217  , 25611.3151701 ,  5419.8062587 ,\n",
       "       22169.76660211])"
      ]
     },
     "execution_count": 19,
     "metadata": {},
     "output_type": "execute_result"
    }
   ],
   "source": [
    "test_predict[0:9]"
   ]
  },
  {
   "cell_type": "code",
   "execution_count": 20,
   "metadata": {},
   "outputs": [
    {
     "data": {
      "text/plain": [
       "68961     51999\n",
       "309550    31590\n",
       "29035     10995\n",
       "218608    24278\n",
       "172099    19990\n",
       "54812     28995\n",
       "246409        0\n",
       "148866    11500\n",
       "42087      6900\n",
       "Name: price, dtype: int64"
      ]
     },
     "execution_count": 20,
     "metadata": {},
     "output_type": "execute_result"
    }
   ],
   "source": [
    "y_test[0:9]"
   ]
  },
  {
   "cell_type": "markdown",
   "metadata": {},
   "source": [
    "### Evaluation\n",
    "\n",
    "With some modeling accomplished, we aim to reflect on what we identify as a high quality model and what we are able to learn from this.  We should review our business objective and explore how well we can provide meaningful insight on drivers of used car prices.  Your goal now is to distill your findings and determine whether the earlier phases need revisitation and adjustment or if you have information of value to bring back to your client."
   ]
  },
  {
   "cell_type": "code",
   "execution_count": 21,
   "metadata": {},
   "outputs": [],
   "source": [
    "#It seems that the mse is not different whether we use the polynomial linear regression on year/odometer  or we use the transmission / title status. "
   ]
  },
  {
   "cell_type": "markdown",
   "metadata": {},
   "source": [
    "Will try to use the manufacturer in the equation. Let us focus on Toyota and redo the strps above. Here is the frame with Toyota"
   ]
  },
  {
   "cell_type": "code",
   "execution_count": 22,
   "metadata": {},
   "outputs": [],
   "source": [
    "#Focussed on a particular manufacturer\n",
    "data_df=data_df.loc[data_df['manufacturer'] == \"toyota\"]  "
   ]
  },
  {
   "cell_type": "code",
   "execution_count": 23,
   "metadata": {},
   "outputs": [
    {
     "name": "stdout",
     "output_type": "stream",
     "text": [
      "6\n",
      "['other' 'automatic' 'manual']\n",
      "51\n"
     ]
    },
    {
     "data": {
      "text/html": [
       "<div>\n",
       "<style scoped>\n",
       "    .dataframe tbody tr th:only-of-type {\n",
       "        vertical-align: middle;\n",
       "    }\n",
       "\n",
       "    .dataframe tbody tr th {\n",
       "        vertical-align: top;\n",
       "    }\n",
       "\n",
       "    .dataframe thead th {\n",
       "        text-align: right;\n",
       "    }\n",
       "</style>\n",
       "<table border=\"1\" class=\"dataframe\">\n",
       "  <thead>\n",
       "    <tr style=\"text-align: right;\">\n",
       "      <th></th>\n",
       "      <th>year</th>\n",
       "    </tr>\n",
       "  </thead>\n",
       "  <tbody>\n",
       "    <tr>\n",
       "      <th>0</th>\n",
       "      <td>2017.0</td>\n",
       "    </tr>\n",
       "    <tr>\n",
       "      <th>1</th>\n",
       "      <td>2019.0</td>\n",
       "    </tr>\n",
       "    <tr>\n",
       "      <th>2</th>\n",
       "      <td>2014.0</td>\n",
       "    </tr>\n",
       "    <tr>\n",
       "      <th>3</th>\n",
       "      <td>2014.0</td>\n",
       "    </tr>\n",
       "    <tr>\n",
       "      <th>4</th>\n",
       "      <td>2016.0</td>\n",
       "    </tr>\n",
       "  </tbody>\n",
       "</table>\n",
       "</div>"
      ],
      "text/plain": [
       "     year\n",
       "0  2017.0\n",
       "1  2019.0\n",
       "2  2014.0\n",
       "3  2014.0\n",
       "4  2016.0"
      ]
     },
     "execution_count": 23,
     "metadata": {},
     "output_type": "execute_result"
    }
   ],
   "source": [
    "data_subset=data_df[[\"region\", \"price\", \"year\", \"model\", \"odometer\",\"title_status\", \"transmission\",\"state\"]]\n",
    "data_subset.reset_index(inplace=True, drop=True)\n",
    "\t\n",
    "data_subset.isna().sum()\n",
    "data_subset.dropna(inplace=True)\n",
    "data_subset.reset_index(inplace=True, drop=True)\n",
    "# YOUR CODE HERE\n",
    "num_title=data_subset[\"title_status\"].unique()\n",
    "num_trans=data_subset[\"transmission\"].unique()\n",
    "num_states=data_subset[\"state\"].unique()\n",
    "# Answer check\n",
    "print(num_title.size)\n",
    "print(num_trans)\n",
    "print(num_states.size)\n",
    "\n",
    "title_encoded = pd.get_dummies(data_subset['title_status'])\n",
    "trans_encoded=pd.get_dummies(data_subset[\"transmission\"])\n",
    "data_subset=data_subset.drop([\"title_status\", \"transmission\",\"state\", \"region\", \"model\"], inplace=False, axis=1)\n",
    "drop_numerical_outliers(data_subset, z_thresh=2)\n",
    "X = data_subset.drop(['price', \"odometer\"], axis = 1)\n",
    "y = data_subset['price']\n",
    "X.head()"
   ]
  },
  {
   "cell_type": "code",
   "execution_count": 29,
   "metadata": {},
   "outputs": [
    {
     "name": "stdout",
     "output_type": "stream",
     "text": [
      "<class 'numpy.ndarray'>\n",
      "[-1370225.03406808  1377503.69861275]\n",
      "Linear Model: train_mse=108799778.65571931, test_mse=106974859.64997852\n"
     ]
    },
    {
     "data": {
      "image/png": "[encoded data removed]",
      "text/plain": [
       "<Figure size 432x288 with 1 Axes>"
      ]
     },
     "metadata": {},
     "output_type": "display_data"
    }
   ],
   "source": [
    "\n",
    "X_train, X_test, y_train, y_test =train_test_split(X,y,test_size=0.3, random_state = 22)\n",
    "plt.scatter(X_train[\"year\"], y_train)\n",
    "auto_pipe = Pipeline([('polyfeatures', PolynomialFeatures(degree = 2, include_bias = False)),\n",
    "                      ('scaler', StandardScaler()),\n",
    "                     ('linear', LinearRegression())])\n",
    "auto_pipe.fit(X_train, y_train)\n",
    "linear_coefs = auto_pipe.named_steps['linear'].coef_\n",
    "# Answer check\n",
    "print(type(linear_coefs))\n",
    "print(linear_coefs)\n",
    "auto_pipe\n",
    "\n",
    "train_predict=auto_pipe.predict(X_train)\n",
    "train_predict[train_predict < 0] = 0\n",
    "train_mse=mean_squared_error(train_predict, y_train)\n",
    "\n",
    "test_predict=auto_pipe.predict(X_test)\n",
    "test_predict[test_predict < 0] = 0\n",
    "test_mse=mean_squared_error(test_predict, y_test)\n",
    "\n",
    "print(f\"Linear Model: train_mse={train_mse}, test_mse={test_mse}\")\n"
   ]
  },
  {
   "cell_type": "code",
   "execution_count": 30,
   "metadata": {},
   "outputs": [],
   "source": [
    "#Noticed that linear model with any degree gives training MSE that is worse than test MSE. "
   ]
  },
  {
   "cell_type": "markdown",
   "metadata": {},
   "source": [
    "### Deployment\n",
    "\n",
    "Now that we've settled on our models and findings, it is time to deliver the information to the client.  You should organize your work as a basic report that details your primary findings.  Keep in mind that your audience is a group of used car dealers interested in fine tuning their inventory."
   ]
  },
  {
   "cell_type": "code",
   "execution_count": 31,
   "metadata": {},
   "outputs": [
    {
     "name": "stdout",
     "output_type": "stream",
     "text": [
      "[-1370225.03406808  1377503.69861275]\n"
     ]
    }
   ],
   "source": [
    "#We will provide the LInear regression model to estimate the price of a used car based on its year and odometer reading. We provided a model for Toyota for now but the same \n",
    "#approach can be used to estimate price for any other car manufactures but picking up the appropriate model\n",
    "#Here is the model for Toyota used cars:\n",
    "\n",
    "auto_pipe\n",
    "print(auto_pipe.named_steps['linear'].coef_)\n"
   ]
  },
  {
   "cell_type": "code",
   "execution_count": null,
   "metadata": {},
   "outputs": [],
   "source": []
  },
  {
   "cell_type": "code",
   "execution_count": null,
   "metadata": {},
   "outputs": [],
   "source": []
  },
  {
   "cell_type": "code",
   "execution_count": null,
   "metadata": {},
   "outputs": [],
   "source": []
  },
  {
   "cell_type": "code",
   "execution_count": null,
   "metadata": {},
   "outputs": [],
   "source": []
  },
  {
   "cell_type": "code",
   "execution_count": null,
   "metadata": {},
   "outputs": [],
   "source": []
  },
  {
   "cell_type": "code",
   "execution_count": null,
   "metadata": {},
   "outputs": [],
   "source": []
  }
 ],
 "metadata": {
  "kernelspec": {
   "display_name": "Python 3.9.13 64-bit (microsoft store)",
   "language": "python",
   "name": "python3"
  },
  "language_info": {
   "codemirror_mode": {
    "name": "ipython",
    "version": 3
   },
   "file_extension": ".py",
   "mimetype": "text/x-python",
   "name": "python",
   "nbconvert_exporter": "python",
   "pygments_lexer": "ipython3",
   "version": "3.9.13"
  },
  "vscode": {
   "interpreter": {
    "hash": "ded00c973916be55e8695ca221ecab03d98d0cb37392692460ece9629e35dc76"
   }
  },
  "widgets": {
   "application/vnd.jupyter.widget-state+json": {
    "state": {},
    "version_major": 2,
    "version_minor": 0
   }
  }
 },
 "nbformat": 4,
 "nbformat_minor": 4
}
